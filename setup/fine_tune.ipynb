{
 "cells": [
  {
   "cell_type": "code",
   "execution_count": 3,
   "id": "dcae19e2",
   "metadata": {},
   "outputs": [],
   "source": [
    "import pandas as pd\n",
    "import tiktoken\n",
    "import os\n",
    "import json\n",
    "from sklearn.model_selection import train_test_split\n",
    "import fasttext\n",
    "from openai import OpenAI"
   ]
  },
  {
   "cell_type": "code",
   "execution_count": null,
   "id": "ee02270a",
   "metadata": {},
   "outputs": [],
   "source": [
    "# Load data\n",
    "DATA_PATH = './data/'\n",
    "df = pd.read_csv(os.path.join(DATA_PATH,'translation_data_p4.csv'), encoding='utf-8-sig')\n",
    "\n",
    "# Set up device\n",
    "api_key = \"YOUR-API-KEY\"\n",
    "client = OpenAI(api_key = api_key)"
   ]
  },
  {
   "cell_type": "code",
   "execution_count": 23,
   "id": "418ab5f1",
   "metadata": {},
   "outputs": [],
   "source": [
    "df = df.dropna().copy()"
   ]
  },
  {
   "cell_type": "code",
   "execution_count": 24,
   "id": "8c664aa7",
   "metadata": {},
   "outputs": [
    {
     "name": "stdout",
     "output_type": "stream",
     "text": [
      "Examples from file: 329\n"
     ]
    }
   ],
   "source": [
    "# Add instructions column\n",
    "df['instructions'] = \"כתוב את הטקסט הבא בסגנון דוד בן-גוריון:\\n\\n\"\n",
    "df['input'] = df['rewritten']\n",
    "df['output'] = df['paragraph']\n",
    "df['input'] = df['input'].apply(lambda x: x.replace('\\n\\n', '\\n'))\n",
    "df['output'] = df['output'].apply(lambda x: x.replace('\\n\\n', '\\n'))\n",
    "\n",
    "print(f\"Examples from file: {len(df)}\")"
   ]
  },
  {
   "cell_type": "code",
   "execution_count": 25,
   "id": "e9131dfc",
   "metadata": {},
   "outputs": [
    {
     "name": "stdout",
     "output_type": "stream",
     "text": [
      "Documents exceeding 65536 tokens:\n",
      "Empty DataFrame\n",
      "Columns: [book_id, paragraph_num, paragraph, rewritten, instructions, input, output, token_count, combined_text]\n",
      "Index: []\n"
     ]
    }
   ],
   "source": [
    "# Initialize tokenizer\n",
    "encoding = tiktoken.encoding_for_model(\"gpt-4o-mini\")\n",
    "\n",
    "# Tokenize each document (input-output pair)\n",
    "def tokenize_document(row):\n",
    "    # Combine instruction + input + output into a single document\n",
    "    combined_text = f\"Instruction: {row['instructions']}\\nInput: {row['input']}\\nOutput: {row['output']}\"\n",
    "    tokens = encoding.encode(combined_text)\n",
    "    return len(tokens), combined_text\n",
    "\n",
    "# Apply tokenization and check token counts\n",
    "df['token_count'], df['combined_text'] = zip(*df.apply(tokenize_document, axis=1))\n",
    "\n",
    "# Check documents that exceed token limit\n",
    "max_tokens = 65536\n",
    "exceeds_limit = df[df['token_count'] > max_tokens]\n",
    "\n",
    "print(f\"Documents exceeding {max_tokens} tokens:\\n{exceeds_limit}\")\n"
   ]
  },
  {
   "cell_type": "code",
   "execution_count": 28,
   "id": "2c1a9d61",
   "metadata": {},
   "outputs": [
    {
     "data": {
      "text/plain": [
       "(263, 66)"
      ]
     },
     "execution_count": 28,
     "metadata": {},
     "output_type": "execute_result"
    }
   ],
   "source": [
    "# Train/Test Split\n",
    "train_df, test_df = train_test_split(df, test_size=0.2, random_state=42)\n",
    "len(train_df), len(test_df)"
   ]
  },
  {
   "cell_type": "code",
   "execution_count": 29,
   "id": "32200dda",
   "metadata": {},
   "outputs": [],
   "source": [
    "def write_to_jsonl(df, filename):    \n",
    "# Writing the file with UTF-8 encoding\n",
    "    with open(filename, \"w\", encoding=\"utf-8\") as f:\n",
    "        for _, row in df.iterrows():\n",
    "            # Assume 'input' is the everyday version, 'output' is the original speech\n",
    "            system_message = {\"role\": \"system\", \"content\": \"אתה עוזר שכותב טקסטים בסגנון דוד בן-גוריון. תקבל טקסט יומיומי ותשכתב אותו לשפה פורמלית בסגנון בן-גוריוני.\"}\n",
    "            \n",
    "            # User and assistant messages\n",
    "            user_message = {\"role\": \"user\", \"content\": row['input']}\n",
    "            assistant_message = {\"role\": \"assistant\", \"content\": row['output']}\n",
    "\n",
    "            conversation = {\n",
    "            \"messages\": [system_message, user_message, assistant_message]\n",
    "        }\n",
    "            \n",
    "            f.write(json.dumps(conversation, ensure_ascii=False) + \"\\n\")\n",
    "write_to_jsonl(train_df, os.path.join(DATA_PATH, 'train.jsonl'))\n",
    "write_to_jsonl(test_df, os.path.join(DATA_PATH, 'test.jsonl'))"
   ]
  },
  {
   "cell_type": "code",
   "execution_count": 30,
   "id": "d2a3d73c",
   "metadata": {},
   "outputs": [
    {
     "name": "stdout",
     "output_type": "stream",
     "text": [
      "Num examples: 263\n",
      "First example:\n",
      "{'role': 'system', 'content': 'אתה עוזר שכותב טקסטים בסגנון דוד בן-גוריון. תקבל טקסט יומיומי ותשכתב אותו לשפה פורמלית בסגנון בן-גוריוני.'}\n",
      "{'role': 'user', 'content': 'כל התכונות והיכולות שנדרשו בכל מקום ובכל זמן – כמו יכולת פעולה, חריצות ונאמנות – יידרשו גם לעובדי המדינה, אבל זה לא יהיה מספיק.'}\n",
      "{'role': 'assistant', 'content': 'כל התכונות והסגולות שנדרשו בכל מקום ובכל זמן – כושר-פעולה, חריצות, נאמנות, – יידרשו גם לפקידות המדינה, אך אלה בלבד לא יספיקו.'}\n"
     ]
    }
   ],
   "source": [
    "# Load the dataset\n",
    "with open(os.path.join(DATA_PATH, 'train.jsonl'), 'r', encoding='utf-8') as f:\n",
    "    dataset = [json.loads(line) for line in f]\n",
    "\n",
    "# Initial dataset stats\n",
    "print(\"Num examples:\", len(dataset))\n",
    "print(\"First example:\")\n",
    "for message in dataset[0][\"messages\"]:\n",
    "    print(message)"
   ]
  },
  {
   "cell_type": "code",
   "execution_count": 31,
   "id": "7343ba6c",
   "metadata": {},
   "outputs": [
    {
     "name": "stdout",
     "output_type": "stream",
     "text": [
      "No errors found\n"
     ]
    }
   ],
   "source": [
    "from collections import defaultdict\n",
    "\n",
    "# Format error checks\n",
    "format_errors = defaultdict(int)\n",
    "\n",
    "for ex in dataset:\n",
    "    if not isinstance(ex, dict):\n",
    "        format_errors[\"data_type\"] += 1\n",
    "        continue\n",
    "        \n",
    "    messages = ex.get(\"messages\", None)\n",
    "    if not messages:\n",
    "        format_errors[\"missing_messages_list\"] += 1\n",
    "        continue\n",
    "        \n",
    "    for message in messages:\n",
    "        if \"role\" not in message or \"content\" not in message:\n",
    "            format_errors[\"message_missing_key\"] += 1\n",
    "        \n",
    "        if any(k not in (\"role\", \"content\", \"name\", \"function_call\", \"weight\") for k in message):\n",
    "            format_errors[\"message_unrecognized_key\"] += 1\n",
    "        \n",
    "        if message.get(\"role\", None) not in (\"system\", \"user\", \"assistant\", \"function\"):\n",
    "            format_errors[\"unrecognized_role\"] += 1\n",
    "            \n",
    "        content = message.get(\"content\", None)\n",
    "        function_call = message.get(\"function_call\", None)\n",
    "        \n",
    "        if (not content and not function_call) or not isinstance(content, str):\n",
    "            format_errors[\"missing_content\"] += 1\n",
    "    \n",
    "    if not any(message.get(\"role\", None) == \"assistant\" for message in messages):\n",
    "        format_errors[\"example_missing_assistant_message\"] += 1\n",
    "\n",
    "if format_errors:\n",
    "    print(\"Found errors:\")\n",
    "    for k, v in format_errors.items():\n",
    "        print(f\"{k}: {v}\")\n",
    "else:\n",
    "    print(\"No errors found\")"
   ]
  },
  {
   "cell_type": "code",
   "execution_count": 32,
   "id": "c17e2691",
   "metadata": {},
   "outputs": [],
   "source": [
    "import numpy as np\n",
    "\n",
    "encoding = tiktoken.get_encoding(\"o200k_base\")\n",
    "\n",
    "# not exact!\n",
    "# simplified from https://github.com/openai/openai-cookbook/blob/main/examples/How_to_count_tokens_with_tiktoken.ipynb\n",
    "def num_tokens_from_messages(messages, tokens_per_message=3, tokens_per_name=1):\n",
    "    num_tokens = 0\n",
    "    for message in messages:\n",
    "        num_tokens += tokens_per_message\n",
    "        for key, value in message.items():\n",
    "            num_tokens += len(encoding.encode(value))\n",
    "            if key == \"name\":\n",
    "                num_tokens += tokens_per_name\n",
    "    num_tokens += 3\n",
    "    return num_tokens\n",
    "\n",
    "def num_assistant_tokens_from_messages(messages):\n",
    "    num_tokens = 0\n",
    "    for message in messages:\n",
    "        if message[\"role\"] == \"assistant\":\n",
    "            num_tokens += len(encoding.encode(message[\"content\"]))\n",
    "    return num_tokens\n",
    "\n",
    "def print_distribution(values, name):\n",
    "    print(f\"\\n#### Distribution of {name}:\")\n",
    "    print(f\"min / max: {min(values)}, {max(values)}\")\n",
    "    print(f\"mean / median: {np.mean(values)}, {np.median(values)}\")\n",
    "    print(f\"p5 / p95: {np.quantile(values, 0.1)}, {np.quantile(values, 0.9)}\")"
   ]
  },
  {
   "cell_type": "code",
   "execution_count": 33,
   "id": "d58b5af2",
   "metadata": {},
   "outputs": [
    {
     "name": "stdout",
     "output_type": "stream",
     "text": [
      "Num examples missing system message: 0\n",
      "Num examples missing user message: 0\n",
      "\n",
      "#### Distribution of num_messages_per_example:\n",
      "min / max: 3, 3\n",
      "mean / median: 3.0, 3.0\n",
      "p5 / p95: 3.0, 3.0\n",
      "\n",
      "#### Distribution of num_total_tokens_per_example:\n",
      "min / max: 70, 1575\n",
      "mean / median: 422.70722433460077, 344.0\n",
      "p5 / p95: 142.8, 830.6000000000001\n",
      "\n",
      "#### Distribution of num_assistant_tokens_per_example:\n",
      "min / max: 2, 935\n",
      "mean / median: 193.13307984790873, 144.0\n",
      "p5 / p95: 44.0, 425.8\n",
      "\n",
      "0 examples may be over the 16,385 token limit, they will be truncated during fine-tuning\n"
     ]
    }
   ],
   "source": [
    "# Warnings and tokens counts\n",
    "n_missing_system = 0\n",
    "n_missing_user = 0\n",
    "n_messages = []\n",
    "convo_lens = []\n",
    "assistant_message_lens = []\n",
    "\n",
    "for ex in dataset:\n",
    "    messages = ex[\"messages\"]\n",
    "    if not any(message[\"role\"] == \"system\" for message in messages):\n",
    "        n_missing_system += 1\n",
    "    if not any(message[\"role\"] == \"user\" for message in messages):\n",
    "        n_missing_user += 1\n",
    "    n_messages.append(len(messages))\n",
    "    convo_lens.append(num_tokens_from_messages(messages))\n",
    "    assistant_message_lens.append(num_assistant_tokens_from_messages(messages))\n",
    "    \n",
    "print(\"Num examples missing system message:\", n_missing_system)\n",
    "print(\"Num examples missing user message:\", n_missing_user)\n",
    "print_distribution(n_messages, \"num_messages_per_example\")\n",
    "print_distribution(convo_lens, \"num_total_tokens_per_example\")\n",
    "print_distribution(assistant_message_lens, \"num_assistant_tokens_per_example\")\n",
    "n_too_long = sum(l > 65536 for l in convo_lens)\n",
    "print(f\"\\n{n_too_long} examples may be over the 16,385 token limit, they will be truncated during fine-tuning\")"
   ]
  },
  {
   "cell_type": "code",
   "execution_count": 37,
   "id": "99b0180a",
   "metadata": {},
   "outputs": [
    {
     "name": "stdout",
     "output_type": "stream",
     "text": [
      "Dataset has ~111172 tokens that will be charged for during training\n",
      "By default, you'll train for 3 epochs on this dataset\n",
      "By default, you'll be charged for ~333516 tokens\n"
     ]
    }
   ],
   "source": [
    "# Pricing and default n_epochs estimate\n",
    "MAX_TOKENS_PER_EXAMPLE = 65536\n",
    "\n",
    "TARGET_EPOCHS = 3\n",
    "MIN_TARGET_EXAMPLES = 100\n",
    "MAX_TARGET_EXAMPLES = 25000\n",
    "MIN_DEFAULT_EPOCHS = 1\n",
    "MAX_DEFAULT_EPOCHS = 25\n",
    "\n",
    "n_epochs = TARGET_EPOCHS\n",
    "n_train_examples = len(dataset)\n",
    "if n_train_examples * TARGET_EPOCHS < MIN_TARGET_EXAMPLES:\n",
    "    n_epochs = min(MAX_DEFAULT_EPOCHS, MIN_TARGET_EXAMPLES // n_train_examples)\n",
    "elif n_train_examples * TARGET_EPOCHS > MAX_TARGET_EXAMPLES:\n",
    "    n_epochs = max(MIN_DEFAULT_EPOCHS, MAX_TARGET_EXAMPLES // n_train_examples)\n",
    "\n",
    "n_billing_tokens_in_dataset = sum(min(MAX_TOKENS_PER_EXAMPLE, length) for length in convo_lens)\n",
    "print(f\"Dataset has ~{n_billing_tokens_in_dataset} tokens that will be charged for during training\")\n",
    "print(f\"By default, you'll train for {n_epochs} epochs on this dataset\")\n",
    "print(f\"By default, you'll be charged for ~{n_epochs * n_billing_tokens_in_dataset} tokens\")"
   ]
  },
  {
   "cell_type": "code",
   "execution_count": null,
   "id": "43bdbcd7",
   "metadata": {},
   "outputs": [],
   "source": [
    "from openai import OpenAI\n",
    "client = OpenAI(api_key=api_key)\n",
    "\n",
    "client.files.create(\n",
    "  file=open(os.path.join(DATA_PATH, 'train.jsonl'), \"rb\"),\n",
    "  purpose=\"fine-tune\"\n",
    ")"
   ]
  },
  {
   "cell_type": "code",
   "execution_count": null,
   "id": "eda51731",
   "metadata": {},
   "outputs": [],
   "source": [
    "from openai import OpenAI\n",
    "client = OpenAI(api_key=api_key)\n",
    "\n",
    "client.files.create(\n",
    "  file=open(os.path.join(DATA_PATH, 'test.jsonl'), \"rb\"),\n",
    "  purpose=\"fine-tune\"\n",
    ")"
   ]
  },
  {
   "cell_type": "code",
   "execution_count": null,
   "id": "499d3bbe",
   "metadata": {},
   "outputs": [
    {
     "data": {
      "text/plain": [
       "FineTuningJob(id='ftjob-weS8qEJF8vHouHOuP8VUMZVM', created_at=1746976272, error=Error(code=None, message=None, param=None), fine_tuned_model=None, finished_at=None, hyperparameters=Hyperparameters(batch_size='auto', learning_rate_multiplier='auto', n_epochs=3), model='gpt-4o-mini-2024-07-18', object='fine_tuning.job', organization_id='org-yE4KWcntLYuSEOoxAg1h0jKj', result_files=[], seed=1832142398, status='validating_files', trained_tokens=None, training_file='file-Nye6vnnGnhMKGoKoXw2QCh', validation_file='file-NXmrfJEtzHWK7sMd3o4kHa', estimated_finish=None, integrations=[], method=Method(dpo=None, supervised=MethodSupervised(hyperparameters=MethodSupervisedHyperparameters(batch_size='auto', learning_rate_multiplier='auto', n_epochs=3)), type='supervised'), user_provided_suffix='chatDBG_v3', metadata=None, usage_metrics=None, shared_with_openai=False, eval_id=None)"
      ]
     },
     "execution_count": 38,
     "metadata": {},
     "output_type": "execute_result"
    }
   ],
   "source": [
    "client.fine_tuning.jobs.create(\n",
    "    training_file=\"YOUR-FILE-NAME-HERE\",\n",
    "    model=\"gpt-4o-mini-2024-07-18\",\n",
    "    validation_file=\"YOUR-FILE-NAME-HERE\",\n",
    "    hyperparameters={\n",
    "        \"n_epochs\": 3\n",
    "    },\n",
    "    suffix=\"chatDBG_v3\",\n",
    ")"
   ]
  }
 ],
 "metadata": {
  "kernelspec": {
   "display_name": "Python 3",
   "language": "python",
   "name": "python3"
  },
  "language_info": {
   "codemirror_mode": {
    "name": "ipython",
    "version": 3
   },
   "file_extension": ".py",
   "mimetype": "text/x-python",
   "name": "python",
   "nbconvert_exporter": "python",
   "pygments_lexer": "ipython3",
   "version": "3.10.16"
  }
 },
 "nbformat": 4,
 "nbformat_minor": 5
}
