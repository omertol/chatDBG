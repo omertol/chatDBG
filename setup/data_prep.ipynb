{
 "cells": [
  {
   "cell_type": "code",
   "execution_count": 1,
   "metadata": {},
   "outputs": [],
   "source": [
    "import pandas as pd\n",
    "import os\n",
    "import pickle\n",
    "import fasttext\n",
    "import re"
   ]
  },
  {
   "cell_type": "code",
   "execution_count": null,
   "metadata": {},
   "outputs": [],
   "source": [
    "# Load data\n",
    "DATA_PATH = './data/'\n",
    "pickle_file = os.path.join(DATA_PATH, 'first_data_batch.pkl')\n",
    "df = pd.read_pickle(pickle_file)"
   ]
  },
  {
   "cell_type": "code",
   "execution_count": 3,
   "metadata": {},
   "outputs": [],
   "source": [
    "def preprocess_hebrew(text):\n",
    "    # Remove backslash-prefixed tags (e.g., \\n, \\t)\n",
    "    text = re.sub(r\"\\\\[a-zA-Z]+\", \"\", text)\n",
    "\n",
    "    # Remove unwanted control characters (whitespace + control characters + BOM)\n",
    "    text = re.sub(r'[\\x00-\\x1F\\x7F-\\x9F\\u00A0]+', '', text)\n",
    "\n",
    "    # Remove HTML tags\n",
    "    text = re.sub(r'<.*?>', '', text)\n",
    "\n",
    "    return text"
   ]
  },
  {
   "cell_type": "code",
   "execution_count": 4,
   "metadata": {},
   "outputs": [],
   "source": [
    "# Apply preprocessing to Hebrew text\n",
    "df['headline'] = df['headline'].apply(preprocess_hebrew)\n",
    "df['combined_info'] = df['combined_info'].apply(preprocess_hebrew)"
   ]
  },
  {
   "cell_type": "code",
   "execution_count": 6,
   "metadata": {},
   "outputs": [
    {
     "data": {
      "text/html": [
       "<div>\n",
       "<style scoped>\n",
       "    .dataframe tbody tr th:only-of-type {\n",
       "        vertical-align: middle;\n",
       "    }\n",
       "\n",
       "    .dataframe tbody tr th {\n",
       "        vertical-align: top;\n",
       "    }\n",
       "\n",
       "    .dataframe thead th {\n",
       "        text-align: right;\n",
       "    }\n",
       "</style>\n",
       "<table border=\"1\" class=\"dataframe\">\n",
       "  <thead>\n",
       "    <tr style=\"text-align: right;\">\n",
       "      <th></th>\n",
       "      <th>book_id</th>\n",
       "      <th>type</th>\n",
       "      <th>unit</th>\n",
       "      <th>headline</th>\n",
       "      <th>combined_info</th>\n",
       "    </tr>\n",
       "  </thead>\n",
       "  <tbody>\n",
       "    <tr>\n",
       "      <th>6</th>\n",
       "      <td>241112</td>\n",
       "      <td>ארכיון בן גוריון - מסמך</td>\n",
       "      <td>נאומים ומאמרים</td>\n",
       "      <td>חזון עתיד מתוקן, חגי ישראל, חזון הנביאים, תנופ...</td>\n",
       "      <td>ד. בן-גוריון    י\"ח אייר תש\"ט 17.5.49אין עמים ...</td>\n",
       "    </tr>\n",
       "    <tr>\n",
       "      <th>9</th>\n",
       "      <td>241170</td>\n",
       "      <td>ארכיון בן גוריון - מסמך</td>\n",
       "      <td>נאומים ומאמרים</td>\n",
       "      <td>israel and the middle east, חברות ישראל באו\"ם,...</td>\n",
       "      <td>For Israel and Middle EastBy David Ben-Gurion ...</td>\n",
       "    </tr>\n",
       "    <tr>\n",
       "      <th>16</th>\n",
       "      <td>241180</td>\n",
       "      <td>ארכיון בן גוריון - מסמך</td>\n",
       "      <td>נאומים ומאמרים</td>\n",
       "      <td>חוק שירות הביטחון</td>\n",
       "      <td>ישיבה ע' ו, 5.9.1949    חוק שירות הבטחון תש\"ט-...</td>\n",
       "    </tr>\n",
       "    <tr>\n",
       "      <th>23</th>\n",
       "      <td>241225</td>\n",
       "      <td>ארכיון בן גוריון - מסמך</td>\n",
       "      <td>נאומים ומאמרים</td>\n",
       "      <td>how ambassador Morgenthau saved Palestine jewr...</td>\n",
       "      <td>HOW AMBASSADOR MORGENTHAU SAVED PALESTINE JEWR...</td>\n",
       "    </tr>\n",
       "    <tr>\n",
       "      <th>68</th>\n",
       "      <td>241459</td>\n",
       "      <td>ארכיון בן גוריון - מסמך</td>\n",
       "      <td>נאומים ומאמרים</td>\n",
       "      <td>[ח\"א?] במטה המורחב, צה\"ל, מערכת סיני, מלחמת סי...</td>\n",
       "      <td>12.12.57 ח\"א במטה המורחבאני מודה, שהדברים של מ...</td>\n",
       "    </tr>\n",
       "  </tbody>\n",
       "</table>\n",
       "</div>"
      ],
      "text/plain": [
       "    book_id                     type            unit  \\\n",
       "6    241112  ארכיון בן גוריון - מסמך  נאומים ומאמרים   \n",
       "9    241170  ארכיון בן גוריון - מסמך  נאומים ומאמרים   \n",
       "16   241180  ארכיון בן גוריון - מסמך  נאומים ומאמרים   \n",
       "23   241225  ארכיון בן גוריון - מסמך  נאומים ומאמרים   \n",
       "68   241459  ארכיון בן גוריון - מסמך  נאומים ומאמרים   \n",
       "\n",
       "                                             headline  \\\n",
       "6   חזון עתיד מתוקן, חגי ישראל, חזון הנביאים, תנופ...   \n",
       "9   israel and the middle east, חברות ישראל באו\"ם,...   \n",
       "16                                  חוק שירות הביטחון   \n",
       "23  how ambassador Morgenthau saved Palestine jewr...   \n",
       "68  [ח\"א?] במטה המורחב, צה\"ל, מערכת סיני, מלחמת סי...   \n",
       "\n",
       "                                        combined_info  \n",
       "6   ד. בן-גוריון    י\"ח אייר תש\"ט 17.5.49אין עמים ...  \n",
       "9   For Israel and Middle EastBy David Ben-Gurion ...  \n",
       "16  ישיבה ע' ו, 5.9.1949    חוק שירות הבטחון תש\"ט-...  \n",
       "23  HOW AMBASSADOR MORGENTHAU SAVED PALESTINE JEWR...  \n",
       "68  12.12.57 ח\"א במטה המורחבאני מודה, שהדברים של מ...  "
      ]
     },
     "execution_count": 6,
     "metadata": {},
     "output_type": "execute_result"
    }
   ],
   "source": [
    "speeches = df.loc[(df[\"combined_info\"] != \"\")][['book_id', 'type', 'unit', 'headline', 'combined_info']]\n",
    "speeches[:5]"
   ]
  },
  {
   "cell_type": "code",
   "execution_count": null,
   "metadata": {},
   "outputs": [
    {
     "name": "stderr",
     "output_type": "stream",
     "text": [
      "Warning : `load_model` does not return WordVectorModel or SupervisedModel any more, but a `FastText` object which is very similar.\n"
     ]
    }
   ],
   "source": [
    "# Load the pretrained language detection model\n",
    "model_path = os.path.join(DATA_PATH, 'lid.176.bin')\n",
    "model = fasttext.load_model(model_path)\n",
    "\n",
    "# Define a function to detect the language of a given text\n",
    "def detect_lang(text):\n",
    "    if not isinstance(text, str) or text.strip() == \"\":\n",
    "        return \"unknown\"  \n",
    "   \n",
    "    label = model.predict(text)[0][0]  \n",
    "    return label.replace(\"__label__\", \"\")\n",
    "\n",
    "# Apply language detection\n",
    "speeches['lang'] = speeches['combined_info'].apply(lambda x: detect_lang(x) if isinstance(x, str) else 'unknown')\n",
    "\n",
    "# Filter out non-Hebrew and non-English speeches\n",
    "speeches = speeches[speeches['lang'].isin(['he', 'en'])]"
   ]
  },
  {
   "cell_type": "code",
   "execution_count": 8,
   "metadata": {},
   "outputs": [],
   "source": [
    "speeches = speeches.reset_index(drop=True)"
   ]
  },
  {
   "cell_type": "code",
   "execution_count": 9,
   "metadata": {},
   "outputs": [],
   "source": [
    "new_data_path = os.path.join(DATA_PATH, \"prepd_data.pkl\")\n",
    "with open(new_data_path, \"wb\") as file: \n",
    "    pickle.dump(speeches, file)"
   ]
  }
 ],
 "metadata": {
  "kernelspec": {
   "display_name": "my_env",
   "language": "python",
   "name": "python3"
  },
  "language_info": {
   "codemirror_mode": {
    "name": "ipython",
    "version": 3
   },
   "file_extension": ".py",
   "mimetype": "text/x-python",
   "name": "python",
   "nbconvert_exporter": "python",
   "pygments_lexer": "ipython3",
   "version": "3.10.16"
  }
 },
 "nbformat": 4,
 "nbformat_minor": 2
}
