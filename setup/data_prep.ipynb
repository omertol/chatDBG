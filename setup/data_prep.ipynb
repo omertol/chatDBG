{
 "cells": [
  {
   "cell_type": "code",
   "execution_count": 2,
   "metadata": {},
   "outputs": [],
   "source": [
    "import pandas as pd\n",
    "import os\n",
    "import pickle\n",
    "import re"
   ]
  },
  {
   "cell_type": "code",
   "execution_count": 3,
   "metadata": {},
   "outputs": [],
   "source": [
    "# Load data\n",
    "DATA_PATH = './data/'\n",
    "pickle_file = os.path.join(DATA_PATH, 'first_data_batch.pkl')\n",
    "df = pd.read_pickle(pickle_file)"
   ]
  },
  {
   "cell_type": "code",
   "execution_count": 4,
   "metadata": {},
   "outputs": [
    {
     "data": {
      "text/html": [
       "<div>\n",
       "<style scoped>\n",
       "    .dataframe tbody tr th:only-of-type {\n",
       "        vertical-align: middle;\n",
       "    }\n",
       "\n",
       "    .dataframe tbody tr th {\n",
       "        vertical-align: top;\n",
       "    }\n",
       "\n",
       "    .dataframe thead th {\n",
       "        text-align: right;\n",
       "    }\n",
       "</style>\n",
       "<table border=\"1\" class=\"dataframe\">\n",
       "  <thead>\n",
       "    <tr style=\"text-align: right;\">\n",
       "      <th></th>\n",
       "      <th>book_id</th>\n",
       "      <th>type</th>\n",
       "      <th>unit</th>\n",
       "      <th>headline</th>\n",
       "      <th>from_date</th>\n",
       "      <th>to_date</th>\n",
       "      <th>additional_info</th>\n",
       "      <th>additional_info_2</th>\n",
       "      <th>combined_info</th>\n",
       "      <th>combined</th>\n",
       "    </tr>\n",
       "  </thead>\n",
       "  <tbody>\n",
       "    <tr>\n",
       "      <th>0</th>\n",
       "      <td>241083</td>\n",
       "      <td>ארכיון בן גוריון - מסמך</td>\n",
       "      <td>נאומים ומאמרים</td>\n",
       "      <td>לעם ישראל, נאום לרגל ראש-השנה, מלחמה, נצחון, כ...</td>\n",
       "      <td>24/09/1948</td>\n",
       "      <td>24/09/1948</td>\n",
       "      <td></td>\n",
       "      <td></td>\n",
       "      <td></td>\n",
       "      <td>Headline: לעם ישראל, נאום לרגל ראש-השנה, מלחמה...</td>\n",
       "    </tr>\n",
       "    <tr>\n",
       "      <th>1</th>\n",
       "      <td>241089</td>\n",
       "      <td>ארכיון בן גוריון - מסמך</td>\n",
       "      <td>נאומים ומאמרים</td>\n",
       "      <td>אדוני ראש הוועד, מוריי ורבותיי, נאום בפני וועד...</td>\n",
       "      <td>03/01/1949</td>\n",
       "      <td>03/01/1949</td>\n",
       "      <td></td>\n",
       "      <td></td>\n",
       "      <td></td>\n",
       "      <td>Headline: אדוני ראש הוועד, מוריי ורבותיי, נאום...</td>\n",
       "    </tr>\n",
       "    <tr>\n",
       "      <th>2</th>\n",
       "      <td>241095</td>\n",
       "      <td>ארכיון בן גוריון - מסמך</td>\n",
       "      <td>נאומים ומאמרים</td>\n",
       "      <td>נאום לרגל יום העצמאות, חגים לאומיים, משה רבנו,...</td>\n",
       "      <td>03/05/1949</td>\n",
       "      <td>03/05/1949</td>\n",
       "      <td></td>\n",
       "      <td></td>\n",
       "      <td></td>\n",
       "      <td>Headline: נאום לרגל יום העצמאות, חגים לאומיים,...</td>\n",
       "    </tr>\n",
       "    <tr>\n",
       "      <th>3</th>\n",
       "      <td>241097</td>\n",
       "      <td>ארכיון בן גוריון - מסמך</td>\n",
       "      <td>נאומים ומאמרים</td>\n",
       "      <td>לעתידה של הקרן הקיימת לישראל, קרקעות לאום, חכי...</td>\n",
       "      <td>15/05/1948</td>\n",
       "      <td>31/12/1950</td>\n",
       "      <td></td>\n",
       "      <td></td>\n",
       "      <td></td>\n",
       "      <td>Headline: לעתידה של הקרן הקיימת לישראל, קרקעות...</td>\n",
       "    </tr>\n",
       "    <tr>\n",
       "      <th>4</th>\n",
       "      <td>241105</td>\n",
       "      <td>ארכיון בן גוריון - מסמך</td>\n",
       "      <td>נאומים ומאמרים</td>\n",
       "      <td>מדינת ישראל והתנועה הציונית, פתיחת הוועד הפועל...</td>\n",
       "      <td>05/05/1949</td>\n",
       "      <td>05/05/1949</td>\n",
       "      <td></td>\n",
       "      <td></td>\n",
       "      <td></td>\n",
       "      <td>Headline: מדינת ישראל והתנועה הציונית, פתיחת ה...</td>\n",
       "    </tr>\n",
       "  </tbody>\n",
       "</table>\n",
       "</div>"
      ],
      "text/plain": [
       "   book_id                     type            unit  \\\n",
       "0   241083  ארכיון בן גוריון - מסמך  נאומים ומאמרים   \n",
       "1   241089  ארכיון בן גוריון - מסמך  נאומים ומאמרים   \n",
       "2   241095  ארכיון בן גוריון - מסמך  נאומים ומאמרים   \n",
       "3   241097  ארכיון בן גוריון - מסמך  נאומים ומאמרים   \n",
       "4   241105  ארכיון בן גוריון - מסמך  נאומים ומאמרים   \n",
       "\n",
       "                                            headline   from_date     to_date  \\\n",
       "0  לעם ישראל, נאום לרגל ראש-השנה, מלחמה, נצחון, כ...  24/09/1948  24/09/1948   \n",
       "1  אדוני ראש הוועד, מוריי ורבותיי, נאום בפני וועד...  03/01/1949  03/01/1949   \n",
       "2  נאום לרגל יום העצמאות, חגים לאומיים, משה רבנו,...  03/05/1949  03/05/1949   \n",
       "3  לעתידה של הקרן הקיימת לישראל, קרקעות לאום, חכי...  15/05/1948  31/12/1950   \n",
       "4  מדינת ישראל והתנועה הציונית, פתיחת הוועד הפועל...  05/05/1949  05/05/1949   \n",
       "\n",
       "  additional_info additional_info_2 combined_info  \\\n",
       "0                                                   \n",
       "1                                                   \n",
       "2                                                   \n",
       "3                                                   \n",
       "4                                                   \n",
       "\n",
       "                                            combined  \n",
       "0  Headline: לעם ישראל, נאום לרגל ראש-השנה, מלחמה...  \n",
       "1  Headline: אדוני ראש הוועד, מוריי ורבותיי, נאום...  \n",
       "2  Headline: נאום לרגל יום העצמאות, חגים לאומיים,...  \n",
       "3  Headline: לעתידה של הקרן הקיימת לישראל, קרקעות...  \n",
       "4  Headline: מדינת ישראל והתנועה הציונית, פתיחת ה...  "
      ]
     },
     "execution_count": 4,
     "metadata": {},
     "output_type": "execute_result"
    }
   ],
   "source": [
    "df.head(5)"
   ]
  },
  {
   "cell_type": "code",
   "execution_count": 5,
   "metadata": {},
   "outputs": [
    {
     "name": "stdout",
     "output_type": "stream",
     "text": [
      "4287\n"
     ]
    }
   ],
   "source": [
    "print(len(df))"
   ]
  },
  {
   "cell_type": "code",
   "execution_count": 15,
   "metadata": {},
   "outputs": [
    {
     "name": "stdout",
     "output_type": "stream",
     "text": [
      "\n",
      "Column: type\n",
      "['ארכיון בן גוריון - מסמך']\n",
      "\n",
      "Column: unit\n",
      "['נאומים ומאמרים']\n"
     ]
    }
   ],
   "source": [
    "cols = ['type', 'unit']\n",
    "for col in cols:\n",
    "    print(f\"\\nColumn: {col}\")\n",
    "    print(df[col].unique())"
   ]
  },
  {
   "cell_type": "code",
   "execution_count": 51,
   "metadata": {},
   "outputs": [
    {
     "data": {
      "text/html": [
       "<div>\n",
       "<style scoped>\n",
       "    .dataframe tbody tr th:only-of-type {\n",
       "        vertical-align: middle;\n",
       "    }\n",
       "\n",
       "    .dataframe tbody tr th {\n",
       "        vertical-align: top;\n",
       "    }\n",
       "\n",
       "    .dataframe thead th {\n",
       "        text-align: right;\n",
       "    }\n",
       "</style>\n",
       "<table border=\"1\" class=\"dataframe\">\n",
       "  <thead>\n",
       "    <tr style=\"text-align: right;\">\n",
       "      <th></th>\n",
       "      <th>book_id</th>\n",
       "      <th>headline</th>\n",
       "      <th>combined_info</th>\n",
       "    </tr>\n",
       "  </thead>\n",
       "  <tbody>\n",
       "    <tr>\n",
       "      <th>6</th>\n",
       "      <td>241112</td>\n",
       "      <td>חזון עתיד מתוקן, חגי ישראל, חזון הנביאים, תנופ...</td>\n",
       "      <td>ד. בן-גוריון    י\"ח אייר תש\"ט 17.5.49\\n\\n\\n\\nא...</td>\n",
       "    </tr>\n",
       "    <tr>\n",
       "      <th>9</th>\n",
       "      <td>241170</td>\n",
       "      <td>israel and the middle east, חברות ישראל באו\"ם,...</td>\n",
       "      <td>For Israel and Middle East\\n\\nBy David Ben-Gur...</td>\n",
       "    </tr>\n",
       "    <tr>\n",
       "      <th>16</th>\n",
       "      <td>241180</td>\n",
       "      <td>חוק שירות הביטחון</td>\n",
       "      <td>ישיבה ע' ו, 5.9.1949    חוק שירות הבטחון תש\"ט-...</td>\n",
       "    </tr>\n",
       "    <tr>\n",
       "      <th>23</th>\n",
       "      <td>241225</td>\n",
       "      <td>how ambassador Morgenthau saved Palestine jewr...</td>\n",
       "      <td>HOW AMBASSADOR MORGENTHAU SAVED PALESTINE JEWR...</td>\n",
       "    </tr>\n",
       "    <tr>\n",
       "      <th>68</th>\n",
       "      <td>241459</td>\n",
       "      <td>[ח\"א?] במטה המורחב, צה\"ל, מערכת סיני, מלחמת סי...</td>\n",
       "      <td>12.12.57 ח\"א במטה המורחב\\n\\nאני מודה, שהדברים ...</td>\n",
       "    </tr>\n",
       "  </tbody>\n",
       "</table>\n",
       "</div>"
      ],
      "text/plain": [
       "    book_id                                           headline  \\\n",
       "6    241112  חזון עתיד מתוקן, חגי ישראל, חזון הנביאים, תנופ...   \n",
       "9    241170  israel and the middle east, חברות ישראל באו\"ם,...   \n",
       "16   241180                                  חוק שירות הביטחון   \n",
       "23   241225  how ambassador Morgenthau saved Palestine jewr...   \n",
       "68   241459  [ח\"א?] במטה המורחב, צה\"ל, מערכת סיני, מלחמת סי...   \n",
       "\n",
       "                                        combined_info  \n",
       "6   ד. בן-גוריון    י\"ח אייר תש\"ט 17.5.49\\n\\n\\n\\nא...  \n",
       "9   For Israel and Middle East\\n\\nBy David Ben-Gur...  \n",
       "16  ישיבה ע' ו, 5.9.1949    חוק שירות הבטחון תש\"ט-...  \n",
       "23  HOW AMBASSADOR MORGENTHAU SAVED PALESTINE JEWR...  \n",
       "68  12.12.57 ח\"א במטה המורחב\\n\\nאני מודה, שהדברים ...  "
      ]
     },
     "execution_count": 51,
     "metadata": {},
     "output_type": "execute_result"
    }
   ],
   "source": [
    "# empty information removed\n",
    "speeches = df.loc[(df[\"combined_info\"] != \"\")][['book_id', 'headline', 'combined_info']]\n",
    "speeches[:5]"
   ]
  },
  {
   "cell_type": "code",
   "execution_count": 20,
   "metadata": {},
   "outputs": [
    {
     "name": "stdout",
     "output_type": "stream",
     "text": [
      "2548\n"
     ]
    }
   ],
   "source": [
    "print(len(speeches))"
   ]
  },
  {
   "cell_type": "code",
   "execution_count": 21,
   "metadata": {},
   "outputs": [
    {
     "name": "stdout",
     "output_type": "stream",
     "text": [
      "194\n"
     ]
    }
   ],
   "source": [
    "# we noticed that the initial version of the RAG retrieves the same document but with different id, so we checked it\n",
    "dup_by_combiened_info = speeches[speeches.duplicated(subset=['combined_info'])]\n",
    "print(len(dup_by_combiened_info))"
   ]
  },
  {
   "cell_type": "code",
   "execution_count": 22,
   "metadata": {},
   "outputs": [],
   "source": [
    "# Removes duplicate rows based on the 'combined_info' column — keeps only the first occurrence of each unique text\n",
    "speeches_nondup = speeches.loc[~speeches.duplicated(subset=['combined_info'])]"
   ]
  },
  {
   "cell_type": "code",
   "execution_count": 23,
   "metadata": {},
   "outputs": [
    {
     "name": "stdout",
     "output_type": "stream",
     "text": [
      "0\n"
     ]
    }
   ],
   "source": [
    "# Checks if any duplicates still remain after filtering — if the result is 0, all duplicates were successfully removed\n",
    "print(len(speeches_nondup[speeches_nondup.duplicated(subset=['combined_info'])]))"
   ]
  },
  {
   "cell_type": "code",
   "execution_count": 24,
   "metadata": {},
   "outputs": [
    {
     "data": {
      "text/html": [
       "<div>\n",
       "<style scoped>\n",
       "    .dataframe tbody tr th:only-of-type {\n",
       "        vertical-align: middle;\n",
       "    }\n",
       "\n",
       "    .dataframe tbody tr th {\n",
       "        vertical-align: top;\n",
       "    }\n",
       "\n",
       "    .dataframe thead th {\n",
       "        text-align: right;\n",
       "    }\n",
       "</style>\n",
       "<table border=\"1\" class=\"dataframe\">\n",
       "  <thead>\n",
       "    <tr style=\"text-align: right;\">\n",
       "      <th></th>\n",
       "      <th>book_id</th>\n",
       "      <th>headline</th>\n",
       "      <th>combined_info</th>\n",
       "    </tr>\n",
       "  </thead>\n",
       "  <tbody>\n",
       "    <tr>\n",
       "      <th>6</th>\n",
       "      <td>241112</td>\n",
       "      <td>חזון עתיד מתוקן, חגי ישראל, חזון הנביאים, תנופ...</td>\n",
       "      <td>ד. בן-גוריון    י\"ח אייר תש\"ט 17.5.49\\n\\n\\n\\nא...</td>\n",
       "    </tr>\n",
       "    <tr>\n",
       "      <th>9</th>\n",
       "      <td>241170</td>\n",
       "      <td>israel and the middle east, חברות ישראל באו\"ם,...</td>\n",
       "      <td>For Israel and Middle East\\n\\nBy David Ben-Gur...</td>\n",
       "    </tr>\n",
       "    <tr>\n",
       "      <th>16</th>\n",
       "      <td>241180</td>\n",
       "      <td>חוק שירות הביטחון</td>\n",
       "      <td>ישיבה ע' ו, 5.9.1949    חוק שירות הבטחון תש\"ט-...</td>\n",
       "    </tr>\n",
       "    <tr>\n",
       "      <th>23</th>\n",
       "      <td>241225</td>\n",
       "      <td>how ambassador Morgenthau saved Palestine jewr...</td>\n",
       "      <td>HOW AMBASSADOR MORGENTHAU SAVED PALESTINE JEWR...</td>\n",
       "    </tr>\n",
       "    <tr>\n",
       "      <th>68</th>\n",
       "      <td>241459</td>\n",
       "      <td>[ח\"א?] במטה המורחב, צה\"ל, מערכת סיני, מלחמת סי...</td>\n",
       "      <td>12.12.57 ח\"א במטה המורחב\\n\\nאני מודה, שהדברים ...</td>\n",
       "    </tr>\n",
       "  </tbody>\n",
       "</table>\n",
       "</div>"
      ],
      "text/plain": [
       "    book_id                                           headline  \\\n",
       "6    241112  חזון עתיד מתוקן, חגי ישראל, חזון הנביאים, תנופ...   \n",
       "9    241170  israel and the middle east, חברות ישראל באו\"ם,...   \n",
       "16   241180                                  חוק שירות הביטחון   \n",
       "23   241225  how ambassador Morgenthau saved Palestine jewr...   \n",
       "68   241459  [ח\"א?] במטה המורחב, צה\"ל, מערכת סיני, מלחמת סי...   \n",
       "\n",
       "                                        combined_info  \n",
       "6   ד. בן-גוריון    י\"ח אייר תש\"ט 17.5.49\\n\\n\\n\\nא...  \n",
       "9   For Israel and Middle East\\n\\nBy David Ben-Gur...  \n",
       "16  ישיבה ע' ו, 5.9.1949    חוק שירות הבטחון תש\"ט-...  \n",
       "23  HOW AMBASSADOR MORGENTHAU SAVED PALESTINE JEWR...  \n",
       "68  12.12.57 ח\"א במטה המורחב\\n\\nאני מודה, שהדברים ...  "
      ]
     },
     "execution_count": 24,
     "metadata": {},
     "output_type": "execute_result"
    }
   ],
   "source": [
    "speeches_nondup.head()"
   ]
  },
  {
   "cell_type": "code",
   "execution_count": 12,
   "metadata": {},
   "outputs": [
    {
     "name": "stdout",
     "output_type": "stream",
     "text": [
      "2354\n"
     ]
    }
   ],
   "source": [
    "print(len(speeches_nondup))"
   ]
  },
  {
   "cell_type": "code",
   "execution_count": null,
   "metadata": {},
   "outputs": [],
   "source": [
    "# Pre-processing\n",
    "def remove_html_tags(text):\n",
    "    \"\"\"Remove HTML tags.\"\"\"\n",
    "    text = re.sub(r'<[^<]+?>', '', text)\n",
    "    text = re.sub(r'http\\S+|www\\S+', '', text)\n",
    "    return text\n",
    "\n",
    "def remove_special_characters(text):\n",
    "    text = re.sub(r'[^A-Za-z0-9\\s\\.,;:\\?\\'\\\"\\!\\-\\u0590-\\u05FF]', '', text)\n",
    "    return text.strip()\n",
    "\n",
    "def remove_repeated_substrings(text):\n",
    "    text = re.sub(r'([.?!,;:—\"])\\1+', r'\\1', text)\n",
    "    return text.strip()\n",
    "\n",
    "def remove_extra_spaces(text):\n",
    "    text = re.sub(r'\\n\\s*\\n', '\\n\\n', text)\n",
    "    text = re.sub(r'\\s+', ' ', text)\n",
    "\n",
    "    return text.strip()\n",
    "\n",
    "def preprocess_text(text):\n",
    "    # Remove HTML tags\n",
    "    text = remove_html_tags(text)\n",
    "    \n",
    "    # Remove special characters\n",
    "    text = remove_special_characters(text)\n",
    "\n",
    "    # Remove repeated substrings like dots\n",
    "    text = remove_repeated_substrings(text)\n",
    "\n",
    "    # Remove extra spaces between lines and within lines\n",
    "    text = remove_extra_spaces(text)\n",
    "\n",
    "    return text.strip()"
   ]
  },
  {
   "cell_type": "code",
   "execution_count": 27,
   "metadata": {},
   "outputs": [
    {
     "data": {
      "text/plain": [
       "'שלום עולם test'"
      ]
     },
     "execution_count": 27,
     "metadata": {},
     "output_type": "execute_result"
    }
   ],
   "source": [
    "# Example\n",
    "example_text = \"שלום\\nעולם\\t<b>test</b>\\x0A\"\n",
    "preprocess_text(example_text)\n"
   ]
  },
  {
   "cell_type": "code",
   "execution_count": 28,
   "metadata": {},
   "outputs": [
    {
     "name": "stderr",
     "output_type": "stream",
     "text": [
      "/tmp/ipykernel_12255/2245366030.py:2: SettingWithCopyWarning: \n",
      "A value is trying to be set on a copy of a slice from a DataFrame.\n",
      "Try using .loc[row_indexer,col_indexer] = value instead\n",
      "\n",
      "See the caveats in the documentation: https://pandas.pydata.org/pandas-docs/stable/user_guide/indexing.html#returning-a-view-versus-a-copy\n",
      "  speeches_nondup.loc[:, 'combined_info_pp'] = speeches_nondup['combined_info'].apply(preprocess_text)\n"
     ]
    }
   ],
   "source": [
    "# Apply preprocessing\n",
    "speeches_nondup.loc[:, 'combined_info_pp'] = speeches_nondup['combined_info'].apply(preprocess_text)"
   ]
  },
  {
   "cell_type": "code",
   "execution_count": 29,
   "metadata": {},
   "outputs": [
    {
     "data": {
      "text/html": [
       "<div>\n",
       "<style scoped>\n",
       "    .dataframe tbody tr th:only-of-type {\n",
       "        vertical-align: middle;\n",
       "    }\n",
       "\n",
       "    .dataframe tbody tr th {\n",
       "        vertical-align: top;\n",
       "    }\n",
       "\n",
       "    .dataframe thead th {\n",
       "        text-align: right;\n",
       "    }\n",
       "</style>\n",
       "<table border=\"1\" class=\"dataframe\">\n",
       "  <thead>\n",
       "    <tr style=\"text-align: right;\">\n",
       "      <th></th>\n",
       "      <th>book_id</th>\n",
       "      <th>headline</th>\n",
       "      <th>combined_info</th>\n",
       "      <th>combined_info_pp</th>\n",
       "    </tr>\n",
       "  </thead>\n",
       "  <tbody>\n",
       "    <tr>\n",
       "      <th>6</th>\n",
       "      <td>241112</td>\n",
       "      <td>חזון עתיד מתוקן, חגי ישראל, חזון הנביאים, תנופ...</td>\n",
       "      <td>ד. בן-גוריון    י\"ח אייר תש\"ט 17.5.49\\n\\n\\n\\nא...</td>\n",
       "      <td>ד. בן-גוריון י\"ח אייר תש\"ט 17.5.49 אין עמים רב...</td>\n",
       "    </tr>\n",
       "    <tr>\n",
       "      <th>9</th>\n",
       "      <td>241170</td>\n",
       "      <td>israel and the middle east, חברות ישראל באו\"ם,...</td>\n",
       "      <td>For Israel and Middle East\\n\\nBy David Ben-Gur...</td>\n",
       "      <td>For Israel and Middle East By David Ben-Gurion...</td>\n",
       "    </tr>\n",
       "    <tr>\n",
       "      <th>16</th>\n",
       "      <td>241180</td>\n",
       "      <td>חוק שירות הביטחון</td>\n",
       "      <td>ישיבה ע' ו, 5.9.1949    חוק שירות הבטחון תש\"ט-...</td>\n",
       "      <td>ישיבה ע' ו, 5.9.1949 חוק שירות הבטחון תש\"ט- 19...</td>\n",
       "    </tr>\n",
       "    <tr>\n",
       "      <th>23</th>\n",
       "      <td>241225</td>\n",
       "      <td>how ambassador Morgenthau saved Palestine jewr...</td>\n",
       "      <td>HOW AMBASSADOR MORGENTHAU SAVED PALESTINE JEWR...</td>\n",
       "      <td>HOW AMBASSADOR MORGENTHAU SAVED PALESTINE JEWR...</td>\n",
       "    </tr>\n",
       "    <tr>\n",
       "      <th>68</th>\n",
       "      <td>241459</td>\n",
       "      <td>[ח\"א?] במטה המורחב, צה\"ל, מערכת סיני, מלחמת סי...</td>\n",
       "      <td>12.12.57 ח\"א במטה המורחב\\n\\nאני מודה, שהדברים ...</td>\n",
       "      <td>12.12.57 ח\"א במטה המורחב אני מודה, שהדברים של ...</td>\n",
       "    </tr>\n",
       "  </tbody>\n",
       "</table>\n",
       "</div>"
      ],
      "text/plain": [
       "    book_id                                           headline  \\\n",
       "6    241112  חזון עתיד מתוקן, חגי ישראל, חזון הנביאים, תנופ...   \n",
       "9    241170  israel and the middle east, חברות ישראל באו\"ם,...   \n",
       "16   241180                                  חוק שירות הביטחון   \n",
       "23   241225  how ambassador Morgenthau saved Palestine jewr...   \n",
       "68   241459  [ח\"א?] במטה המורחב, צה\"ל, מערכת סיני, מלחמת סי...   \n",
       "\n",
       "                                        combined_info  \\\n",
       "6   ד. בן-גוריון    י\"ח אייר תש\"ט 17.5.49\\n\\n\\n\\nא...   \n",
       "9   For Israel and Middle East\\n\\nBy David Ben-Gur...   \n",
       "16  ישיבה ע' ו, 5.9.1949    חוק שירות הבטחון תש\"ט-...   \n",
       "23  HOW AMBASSADOR MORGENTHAU SAVED PALESTINE JEWR...   \n",
       "68  12.12.57 ח\"א במטה המורחב\\n\\nאני מודה, שהדברים ...   \n",
       "\n",
       "                                     combined_info_pp  \n",
       "6   ד. בן-גוריון י\"ח אייר תש\"ט 17.5.49 אין עמים רב...  \n",
       "9   For Israel and Middle East By David Ben-Gurion...  \n",
       "16  ישיבה ע' ו, 5.9.1949 חוק שירות הבטחון תש\"ט- 19...  \n",
       "23  HOW AMBASSADOR MORGENTHAU SAVED PALESTINE JEWR...  \n",
       "68  12.12.57 ח\"א במטה המורחב אני מודה, שהדברים של ...  "
      ]
     },
     "execution_count": 29,
     "metadata": {},
     "output_type": "execute_result"
    }
   ],
   "source": [
    "speeches_nondup.head()"
   ]
  },
  {
   "cell_type": "code",
   "execution_count": 43,
   "metadata": {},
   "outputs": [],
   "source": [
    "from langdetect import detect, DetectorFactory\n",
    "DetectorFactory.seed = 0\n",
    "# detext the langauge of each document\n",
    "def detect_lang_ld(text):\n",
    "    try:\n",
    "        return detect(text)\n",
    "    except:\n",
    "        return \"unknown\"\n",
    "\n",
    "speeches_nondup['lang'] = speeches_nondup['combined_info_pp'].apply(lambda x: detect_lang_ld(str(x)) if pd.notna(x) else \"unknown\")\n"
   ]
  },
  {
   "cell_type": "code",
   "execution_count": null,
   "metadata": {},
   "outputs": [
    {
     "name": "stdout",
     "output_type": "stream",
     "text": [
      "['he' 'en' 'fr']\n"
     ]
    }
   ],
   "source": [
    "print(speeches_nondup['lang'].unique())"
   ]
  },
  {
   "cell_type": "code",
   "execution_count": 45,
   "metadata": {},
   "outputs": [
    {
     "name": "stdout",
     "output_type": "stream",
     "text": [
      "lang\n",
      "he    2066\n",
      "en     285\n",
      "fr       3\n",
      "Name: count, dtype: int64\n"
     ]
    }
   ],
   "source": [
    "print(speeches_nondup['lang'].value_counts())"
   ]
  },
  {
   "cell_type": "code",
   "execution_count": 47,
   "metadata": {},
   "outputs": [],
   "source": [
    "speeches_nondup = speeches_nondup.reset_index(drop=True)"
   ]
  },
  {
   "cell_type": "code",
   "execution_count": 48,
   "metadata": {},
   "outputs": [
    {
     "data": {
      "text/html": [
       "<div>\n",
       "<style scoped>\n",
       "    .dataframe tbody tr th:only-of-type {\n",
       "        vertical-align: middle;\n",
       "    }\n",
       "\n",
       "    .dataframe tbody tr th {\n",
       "        vertical-align: top;\n",
       "    }\n",
       "\n",
       "    .dataframe thead th {\n",
       "        text-align: right;\n",
       "    }\n",
       "</style>\n",
       "<table border=\"1\" class=\"dataframe\">\n",
       "  <thead>\n",
       "    <tr style=\"text-align: right;\">\n",
       "      <th></th>\n",
       "      <th>book_id</th>\n",
       "      <th>headline</th>\n",
       "      <th>combined_info</th>\n",
       "      <th>combined_info_pp</th>\n",
       "      <th>lang</th>\n",
       "    </tr>\n",
       "  </thead>\n",
       "  <tbody>\n",
       "    <tr>\n",
       "      <th>0</th>\n",
       "      <td>241112</td>\n",
       "      <td>חזון עתיד מתוקן, חגי ישראל, חזון הנביאים, תנופ...</td>\n",
       "      <td>ד. בן-גוריון    י\"ח אייר תש\"ט 17.5.49\\n\\n\\n\\nא...</td>\n",
       "      <td>ד. בן-גוריון י\"ח אייר תש\"ט 17.5.49 אין עמים רב...</td>\n",
       "      <td>he</td>\n",
       "    </tr>\n",
       "    <tr>\n",
       "      <th>1</th>\n",
       "      <td>241170</td>\n",
       "      <td>israel and the middle east, חברות ישראל באו\"ם,...</td>\n",
       "      <td>For Israel and Middle East\\n\\nBy David Ben-Gur...</td>\n",
       "      <td>For Israel and Middle East By David Ben-Gurion...</td>\n",
       "      <td>en</td>\n",
       "    </tr>\n",
       "    <tr>\n",
       "      <th>2</th>\n",
       "      <td>241180</td>\n",
       "      <td>חוק שירות הביטחון</td>\n",
       "      <td>ישיבה ע' ו, 5.9.1949    חוק שירות הבטחון תש\"ט-...</td>\n",
       "      <td>ישיבה ע' ו, 5.9.1949 חוק שירות הבטחון תש\"ט- 19...</td>\n",
       "      <td>he</td>\n",
       "    </tr>\n",
       "    <tr>\n",
       "      <th>3</th>\n",
       "      <td>241225</td>\n",
       "      <td>how ambassador Morgenthau saved Palestine jewr...</td>\n",
       "      <td>HOW AMBASSADOR MORGENTHAU SAVED PALESTINE JEWR...</td>\n",
       "      <td>HOW AMBASSADOR MORGENTHAU SAVED PALESTINE JEWR...</td>\n",
       "      <td>en</td>\n",
       "    </tr>\n",
       "    <tr>\n",
       "      <th>4</th>\n",
       "      <td>241459</td>\n",
       "      <td>[ח\"א?] במטה המורחב, צה\"ל, מערכת סיני, מלחמת סי...</td>\n",
       "      <td>12.12.57 ח\"א במטה המורחב\\n\\nאני מודה, שהדברים ...</td>\n",
       "      <td>12.12.57 ח\"א במטה המורחב אני מודה, שהדברים של ...</td>\n",
       "      <td>he</td>\n",
       "    </tr>\n",
       "  </tbody>\n",
       "</table>\n",
       "</div>"
      ],
      "text/plain": [
       "   book_id                                           headline  \\\n",
       "0   241112  חזון עתיד מתוקן, חגי ישראל, חזון הנביאים, תנופ...   \n",
       "1   241170  israel and the middle east, חברות ישראל באו\"ם,...   \n",
       "2   241180                                  חוק שירות הביטחון   \n",
       "3   241225  how ambassador Morgenthau saved Palestine jewr...   \n",
       "4   241459  [ח\"א?] במטה המורחב, צה\"ל, מערכת סיני, מלחמת סי...   \n",
       "\n",
       "                                       combined_info  \\\n",
       "0  ד. בן-גוריון    י\"ח אייר תש\"ט 17.5.49\\n\\n\\n\\nא...   \n",
       "1  For Israel and Middle East\\n\\nBy David Ben-Gur...   \n",
       "2  ישיבה ע' ו, 5.9.1949    חוק שירות הבטחון תש\"ט-...   \n",
       "3  HOW AMBASSADOR MORGENTHAU SAVED PALESTINE JEWR...   \n",
       "4  12.12.57 ח\"א במטה המורחב\\n\\nאני מודה, שהדברים ...   \n",
       "\n",
       "                                    combined_info_pp lang  \n",
       "0  ד. בן-גוריון י\"ח אייר תש\"ט 17.5.49 אין עמים רב...   he  \n",
       "1  For Israel and Middle East By David Ben-Gurion...   en  \n",
       "2  ישיבה ע' ו, 5.9.1949 חוק שירות הבטחון תש\"ט- 19...   he  \n",
       "3  HOW AMBASSADOR MORGENTHAU SAVED PALESTINE JEWR...   en  \n",
       "4  12.12.57 ח\"א במטה המורחב אני מודה, שהדברים של ...   he  "
      ]
     },
     "execution_count": 48,
     "metadata": {},
     "output_type": "execute_result"
    }
   ],
   "source": [
    "speeches_nondup.head()"
   ]
  },
  {
   "cell_type": "code",
   "execution_count": 49,
   "metadata": {},
   "outputs": [],
   "source": [
    "new_data_path = os.path.join(DATA_PATH, \"prepd_data.pkl\")\n",
    "with open(new_data_path, \"wb\") as file: \n",
    "    pickle.dump(speeches_nondup, file)"
   ]
  }
 ],
 "metadata": {
  "kernelspec": {
   "display_name": "my_env",
   "language": "python",
   "name": "python3"
  },
  "language_info": {
   "codemirror_mode": {
    "name": "ipython",
    "version": 3
   },
   "file_extension": ".py",
   "mimetype": "text/x-python",
   "name": "python",
   "nbconvert_exporter": "python",
   "pygments_lexer": "ipython3",
   "version": "3.10.16"
  }
 },
 "nbformat": 4,
 "nbformat_minor": 2
}
