{
 "cells": [
  {
   "cell_type": "code",
   "execution_count": null,
   "id": "6d5a5227",
   "metadata": {},
   "outputs": [
    {
     "name": "stderr",
     "output_type": "stream",
     "text": [
      "/home/noaoh/.conda/envs/my_env/lib/python3.10/site-packages/tqdm/auto.py:21: TqdmWarning: IProgress not found. Please update jupyter and ipywidgets. See https://ipywidgets.readthedocs.io/en/stable/user_install.html\n",
      "  from .autonotebook import tqdm as notebook_tqdm\n"
     ]
    }
   ],
   "source": [
    "import os\n",
    "import json\n",
    "import shutil\n",
    "import pickle\n",
    "\n",
    "import wikipediaapi\n",
    "\n",
    "from langchain.vectorstores import FAISS\n",
    "from langchain.schema import Document\n",
    "from langchain.embeddings import OpenAIEmbeddings"
   ]
  },
  {
   "cell_type": "markdown",
   "id": "f9981b0c",
   "metadata": {},
   "source": [
    "### Extract Wikipedia pages"
   ]
  },
  {
   "cell_type": "code",
   "execution_count": null,
   "id": "f606be81",
   "metadata": {},
   "outputs": [],
   "source": [
    "def extract_wikipedia_page(page_name, language='he'):\n",
    "    \"\"\"\n",
    "    Extracts content from a Wikipedia page by its name.\n",
    "\n",
    "    Parameters:\n",
    "        page_name (str): The name of the Wikipedia page.\n",
    "        language (str): The language code of Wikipedia (default is 'he' for Hebrew).\n",
    "\n",
    "    Returns:\n",
    "        dict: A dictionary containing the title, summary, URL, and sections of the page.\n",
    "    \"\"\"\n",
    "    # Define the Wikipedia instance\n",
    "    wiki = wikipediaapi.Wikipedia(\n",
    "        language=language,\n",
    "        user_agent='BenGurionBot/1.0 (noa20808@gmail.com)'\n",
    "    )\n",
    "\n",
    "    # Retrieve the page by its name\n",
    "    page = wiki.page(page_name)\n",
    "\n",
    "    # Check if the page exists\n",
    "    if not page.exists():\n",
    "        raise ValueError(f\"The page '{page_name}' was not found on Wikipedia.\")\n",
    "\n",
    "    # Split the content by headings\n",
    "    def extract_sections(page):\n",
    "        sections_data = {}\n",
    "        def recurse_sections(sections, container):\n",
    "            for section in sections:\n",
    "                container[section.title] = {\n",
    "                    \"text\": section.text,\n",
    "                    \"subsections\": {}\n",
    "                }\n",
    "                recurse_sections(section.sections, container[section.title][\"subsections\"])\n",
    "\n",
    "        recurse_sections(page.sections, sections_data)\n",
    "        return sections_data\n",
    "\n",
    "    # Create the JSON structure\n",
    "    data = {\n",
    "        \"title\": page.title,\n",
    "        \"summary\": page.summary,\n",
    "        \"url\": page.fullurl,\n",
    "        \"sections\": extract_sections(page)\n",
    "    }\n",
    "\n",
    "    return data\n",
    "\n",
    "def save_wikipedia_page_data(page_name, language='he', output_dir=\"./data\"):\n",
    "    \"\"\"\n",
    "    Saves the extracted Wikipedia page data as a JSON file.\n",
    "\n",
    "    Parameters:\n",
    "        page_name (str): The name of the Wikipedia page.\n",
    "        language (str): The language code of Wikipedia (default is 'he' for Hebrew).\n",
    "        output_dir (str): The directory where the JSON file will be saved.\n",
    "    \"\"\"\n",
    "    # Extract the Wikipedia page data\n",
    "    data = extract_wikipedia_page(page_name, language)\n",
    "\n",
    "    # Define the output file path\n",
    "    output_path = os.path.join(output_dir, f\"{page_name.replace(' ', '_')}_wiki.json\")\n",
    "    os.makedirs(os.path.dirname(output_path), exist_ok=True)\n",
    "\n",
    "    # Save the data to a JSON file\n",
    "    with open(output_path, \"w\", encoding=\"utf-8\") as f:\n",
    "        json.dump(data, f, ensure_ascii=False, indent=2)\n",
    "\n",
    "    print(f\"Wiki JSON saved to {output_path}\")"
   ]
  },
  {
   "cell_type": "code",
   "execution_count": null,
   "id": "a3563dcd",
   "metadata": {},
   "outputs": [
    {
     "name": "stdout",
     "output_type": "stream",
     "text": [
      "Wiki JSON saved to ./data/ben_gurion_wiki.json\n"
     ]
    }
   ],
   "source": [
    "save_wikipedia_page_data('דוד בן-גוריון')"
   ]
  },
  {
   "cell_type": "code",
   "execution_count": null,
   "id": "12a06a22",
   "metadata": {},
   "outputs": [],
   "source": [
    "def split_text(text, max_words=260, overlap=35):\n",
    "    words = text.split()\n",
    "    chunks = []\n",
    "    i = 0\n",
    "    while i < len(words):\n",
    "        chunk = words[i:i+max_words]\n",
    "        chunks.append(\" \".join(chunk))\n",
    "        i += max_words - overlap\n",
    "    return chunks\n",
    "\n",
    "def wiki_json_to_chunks(json_path, source_id=\"wikipedia_json\", max_words=260, overlap=35, start_idx=0):\n",
    "    with open(json_path, encoding='utf-8') as f:\n",
    "        wiki_data = json.load(f)\n",
    "\n",
    "    docs = []\n",
    "    current_idx = start_idx  # will be captured by inner function\n",
    "\n",
    "    def recurse_sections(sections, parent_title=None):\n",
    "        nonlocal current_idx\n",
    "        for title, content in sections.items():\n",
    "            full_title = f\"{parent_title} > {title}\" if parent_title else title\n",
    "            text = content.get(\"text\", \"\").strip()\n",
    "            chunks = split_text(text, max_words, overlap)\n",
    "            for chunk in chunks:\n",
    "                docs.append(Document(\n",
    "                    page_content=chunk,\n",
    "                    metadata={\n",
    "                        \"source\": source_id,\n",
    "                        \"section\": full_title,\n",
    "                        \"idx\": current_idx\n",
    "                    }\n",
    "                ))\n",
    "                current_idx += 1\n",
    "            recurse_sections(content.get(\"subsections\", {}), full_title)\n",
    "\n",
    "    recurse_sections(wiki_data[\"sections\"])\n",
    "    return docs"
   ]
  },
  {
   "cell_type": "code",
   "execution_count": null,
   "id": "675e6b65",
   "metadata": {},
   "outputs": [],
   "source": [
    "# Extract the existing chunks from the pickle file to find the max index\n",
    "with open('./data/chunks.pkl', 'rb') as f:\n",
    "    chunks = pickle.load(f)\n",
    "\n",
    "max_existing_idx = max(doc.metadata[\"idx\"] for doc in chunks)\n",
    "\n",
    "wiki_docs = wiki_json_to_chunks(\n",
    "    json_path=\"./data/ben_gurion_wiki.json\",\n",
    "    start_idx=max_existing_idx + 1\n",
    ")\n"
   ]
  },
  {
   "cell_type": "markdown",
   "id": "fd54e29d",
   "metadata": {},
   "source": [
    "### Add the new extracted JSON to the VDB"
   ]
  },
  {
   "cell_type": "code",
   "execution_count": null,
   "id": "18701e1b",
   "metadata": {},
   "outputs": [],
   "source": [
    "api_key = \"YOUR-API-KEY\"\n",
    "os.environ[\"OPENAI_API_KEY\"] = api_key"
   ]
  },
  {
   "cell_type": "code",
   "execution_count": null,
   "id": "72bbfffe",
   "metadata": {},
   "outputs": [
    {
     "name": "stderr",
     "output_type": "stream",
     "text": [
      "2025-05-09 15:07:02.889800: E external/local_xla/xla/stream_executor/cuda/cuda_fft.cc:467] Unable to register cuFFT factory: Attempting to register factory for plugin cuFFT when one has already been registered\n",
      "WARNING: All log messages before absl::InitializeLog() is called are written to STDERR\n",
      "E0000 00:00:1746792422.912760 1102184 cuda_dnn.cc:8579] Unable to register cuDNN factory: Attempting to register factory for plugin cuDNN when one has already been registered\n",
      "E0000 00:00:1746792422.919102 1102184 cuda_blas.cc:1407] Unable to register cuBLAS factory: Attempting to register factory for plugin cuBLAS when one has already been registered\n",
      "W0000 00:00:1746792422.935036 1102184 computation_placer.cc:177] computation placer already registered. Please check linkage and avoid linking the same target more than once.\n",
      "W0000 00:00:1746792422.935051 1102184 computation_placer.cc:177] computation placer already registered. Please check linkage and avoid linking the same target more than once.\n",
      "W0000 00:00:1746792422.935053 1102184 computation_placer.cc:177] computation placer already registered. Please check linkage and avoid linking the same target more than once.\n",
      "W0000 00:00:1746792422.935056 1102184 computation_placer.cc:177] computation placer already registered. Please check linkage and avoid linking the same target more than once.\n",
      "2025-05-09 15:07:02.941212: I tensorflow/core/platform/cpu_feature_guard.cc:210] This TensorFlow binary is optimized to use available CPU instructions in performance-critical operations.\n",
      "To enable the following instructions: AVX2 FMA, in other operations, rebuild TensorFlow with the appropriate compiler flags.\n",
      "Some weights of BertModel were not initialized from the model checkpoint at onlplab/alephbert-base and are newly initialized: ['pooler.dense.bias', 'pooler.dense.weight']\n",
      "You should probably TRAIN this model on a down-stream task to be able to use it for predictions and inference.\n"
     ]
    }
   ],
   "source": [
    "def create_augmented_vectorstore_from_json(\n",
    "    original_index_path,\n",
    "    output_index_path,\n",
    "    wiki_chunks,\n",
    "    embedding_model=OpenAIEmbeddings(model=\"text-embedding-ada-002\")\n",
    "):\n",
    "    # 1. Copy the original index\n",
    "    if os.path.exists(output_index_path):\n",
    "        raise FileExistsError(f\"{output_index_path} already exists. Choose a new path.\")\n",
    "    shutil.copytree(original_index_path, output_index_path)\n",
    "\n",
    "    # 2. Load the new index\n",
    "    vectorstore = FAISS.load_local(output_index_path, embeddings=embedding_model, allow_dangerous_deserialization=True)\n",
    "\n",
    "    # 3. Add to the new index\n",
    "    vectorstore.add_documents(wiki_chunks)\n",
    "    vectorstore.save_local(output_index_path)\n",
    "\n",
    "    print(f\"✅ Augmented vectorstore created at {output_index_path} with {len(wiki_chunks)} wiki chunks.\")"
   ]
  },
  {
   "cell_type": "code",
   "execution_count": null,
   "id": "906c27de",
   "metadata": {},
   "outputs": [
    {
     "name": "stdout",
     "output_type": "stream",
     "text": [
      "✅ Augmented vectorstore created at ./faiss_alephbert_index_copy with 125 wiki chunks.\n"
     ]
    }
   ],
   "source": [
    "create_augmented_vectorstore_from_json(\"./faiss_index_openai\", \"./faiss_index_openai_copy\", wiki_docs)"
   ]
  },
  {
   "cell_type": "code",
   "execution_count": 9,
   "id": "885397f4",
   "metadata": {},
   "outputs": [],
   "source": [
    "combined_chunks = chunks + wiki_docs\n",
    "\n",
    "with open('./data/combined_chunks.pkl', 'wb') as f:\n",
    "    pickle.dump(combined_chunks, f)"
   ]
  }
 ],
 "metadata": {
  "kernelspec": {
   "display_name": "my_env",
   "language": "python",
   "name": "python3"
  },
  "language_info": {
   "codemirror_mode": {
    "name": "ipython",
    "version": 3
   },
   "file_extension": ".py",
   "mimetype": "text/x-python",
   "name": "python",
   "nbconvert_exporter": "python",
   "pygments_lexer": "ipython3",
   "version": "3.10.16"
  }
 },
 "nbformat": 4,
 "nbformat_minor": 5
}
